{
 "cells": [
  {
   "cell_type": "markdown",
   "metadata": {},
   "source": [
    "# Linear Regression"
   ]
  },
  {
   "cell_type": "code",
   "execution_count": 2,
   "metadata": {},
   "outputs": [
    {
     "name": "stdout",
     "output_type": "stream",
     "text": [
      "Running linear regression...\n",
      "0.012815031560256873\n"
     ]
    }
   ],
   "source": [
    "from traintest import *\n",
    "\n",
    "print(\"Running linear regression...\")\n",
    "\n",
    "# linear regression\n",
    "from sklearn import linear_model\n",
    "\n",
    "reg = linear_model.LinearRegression()\n",
    "reg.fit(x_train, y_train)\n",
    "score = reg.score(x_test, y_test)\n",
    "print(f\"{score}\")\n"
   ]
  },
  {
   "cell_type": "markdown",
   "metadata": {},
   "source": [
    "# Random Forest"
   ]
  },
  {
   "cell_type": "code",
   "execution_count": 4,
   "metadata": {},
   "outputs": [
    {
     "name": "stdout",
     "output_type": "stream",
     "text": [
      "Running random forest regression...\n",
      "0.01434494535370412\n"
     ]
    }
   ],
   "source": [
    "from traintest import *\n",
    "\n",
    "# random forest regression\n",
    "from sklearn.ensemble import RandomForestRegressor\n",
    "\n",
    "regr = RandomForestRegressor(max_depth=3, n_estimators=10, random_state=0)\n",
    "regr.fit(x_train, y_train)\n",
    "score = regr.score(x_test, y_test)\n",
    "print(f\"{score}\")\n"
   ]
  },
  {
   "cell_type": "markdown",
   "metadata": {},
   "source": [
    "## Finding best max depth for random forest"
   ]
  },
  {
   "cell_type": "code",
   "execution_count": null,
   "metadata": {},
   "outputs": [],
   "source": [
    "from traintest import *\n",
    "\n",
    "# random forest regression\n",
    "from sklearn.ensemble import RandomForestRegressor\n",
    "\n",
    "maxScore = 0\n",
    "maxDepth = 1\n",
    "maxEstimators = 1\n",
    "\n",
    "for x in range(1, 14):\n",
    "  for y in range(1, 60):\n",
    "    regr = RandomForestRegressor(max_depth=x, n_estimators=y, random_state=0)\n",
    "    regr.fit(x_train, y_train)\n",
    "    score = regr.score(x_test, y_test)\n",
    "    if score > maxScore:\n",
    "      maxScore = score\n",
    "      maxDepth = x\n",
    "      maxEstimators = y\n",
    "\n",
    "print(f\"{maxDepth}: {maxScore}\")"
   ]
  }
 ],
 "metadata": {
  "interpreter": {
   "hash": "b2366135a2ed73e449de9dd605d366daa17ffc058e0d139fe9509c79432c3814"
  },
  "kernelspec": {
   "display_name": "Python 3.10.4 ('venv': venv)",
   "language": "python",
   "name": "python3"
  },
  "language_info": {
   "codemirror_mode": {
    "name": "ipython",
    "version": 3
   },
   "file_extension": ".py",
   "mimetype": "text/x-python",
   "name": "python",
   "nbconvert_exporter": "python",
   "pygments_lexer": "ipython3",
   "version": "3.10.4"
  },
  "orig_nbformat": 4
 },
 "nbformat": 4,
 "nbformat_minor": 2
}
