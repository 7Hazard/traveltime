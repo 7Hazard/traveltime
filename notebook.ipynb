{
  "cells": [
    {
      "cell_type": "code",
      "execution_count": 20,
      "metadata": {},
      "outputs": [
        {
          "name": "stdout",
          "output_type": "stream",
          "text": [
            "        VendorID lpep_pickup_datetime lpep_dropoff_datetime  \\\n",
            "0              2  2018-12-21 15:17:29   2018-12-21 15:18:57   \n",
            "1              2  2019-01-01 00:10:16   2019-01-01 00:16:32   \n",
            "2              2  2019-01-01 00:27:11   2019-01-01 00:31:38   \n",
            "3              2  2019-01-01 00:46:20   2019-01-01 01:04:54   \n",
            "4              2  2019-01-01 00:19:06   2019-01-01 00:39:43   \n",
            "...          ...                  ...                   ...   \n",
            "672100         2  2019-01-31 23:08:00   2019-01-31 23:28:00   \n",
            "672101         2  2019-01-31 23:28:00   2019-01-31 23:47:00   \n",
            "672102         2  2019-01-31 23:14:00   2019-01-31 23:29:00   \n",
            "672103         2  2019-01-31 23:41:00   2019-01-31 23:48:00   \n",
            "672104         2  2019-01-31 23:16:00   2019-01-31 23:39:00   \n",
            "\n",
            "       store_and_fwd_flag  RatecodeID  PULocationID  DOLocationID  \\\n",
            "0                       N         1.0           264           264   \n",
            "1                       N         1.0            97            49   \n",
            "2                       N         1.0            49           189   \n",
            "3                       N         1.0           189            17   \n",
            "4                       N         1.0            82           258   \n",
            "...                   ...         ...           ...           ...   \n",
            "672100               None         NaN            25           177   \n",
            "672101               None         NaN            85           256   \n",
            "672102               None         NaN           168           182   \n",
            "672103               None         NaN            72            72   \n",
            "672104               None         NaN            51           235   \n",
            "\n",
            "        passenger_count  trip_distance  fare_amount  extra  mta_tax  \\\n",
            "0                   5.0           0.00         3.00   0.50      0.5   \n",
            "1                   2.0           0.86         6.00   0.50      0.5   \n",
            "2                   2.0           0.66         4.50   0.50      0.5   \n",
            "3                   2.0           2.68        13.50   0.50      0.5   \n",
            "4                   1.0           4.53        18.00   0.50      0.5   \n",
            "...                 ...            ...          ...    ...      ...   \n",
            "672100              NaN           4.26        23.00   5.50      0.5   \n",
            "672101              NaN           5.21        28.95   2.75      0.5   \n",
            "672102              NaN           5.45        29.25   2.75      0.5   \n",
            "672103              NaN           0.35        48.65   2.75      0.5   \n",
            "672104              NaN           7.16        48.65   2.75      0.5   \n",
            "\n",
            "        tip_amount  tolls_amount  ehail_fee  improvement_surcharge  \\\n",
            "0             0.00           0.0        NaN                    0.3   \n",
            "1             0.00           0.0        NaN                    0.3   \n",
            "2             0.00           0.0        NaN                    0.3   \n",
            "3             2.96           0.0        NaN                    0.3   \n",
            "4             0.00           0.0        NaN                    0.3   \n",
            "...            ...           ...        ...                    ...   \n",
            "672100        0.00           0.0        NaN                    0.0   \n",
            "672101        0.00           0.0        NaN                    0.3   \n",
            "672102        0.00           0.0        NaN                    0.0   \n",
            "672103        0.00           0.0        NaN                    0.0   \n",
            "672104        0.00           0.0        NaN                    0.0   \n",
            "\n",
            "        total_amount  payment_type  trip_type  congestion_surcharge  \n",
            "0               4.30           2.0        1.0                   NaN  \n",
            "1               7.30           2.0        1.0                   NaN  \n",
            "2               5.80           1.0        1.0                   NaN  \n",
            "3              19.71           1.0        1.0                   NaN  \n",
            "4              19.30           2.0        1.0                   NaN  \n",
            "...              ...           ...        ...                   ...  \n",
            "672100         29.00           NaN        NaN                   NaN  \n",
            "672101         32.50           NaN        NaN                   NaN  \n",
            "672102         32.50           NaN        NaN                   NaN  \n",
            "672103         51.90           NaN        NaN                   NaN  \n",
            "672104         51.90           NaN        NaN                   NaN  \n",
            "\n",
            "[672105 rows x 20 columns]\n"
          ]
        }
      ],
      "source": [
        "trips = pq.read_table(\"data/trips/green_tripdata_2019-01.parquet\")\n",
        "trips: pd.DataFrame = trips.to_pandas()\n",
        "print(trips)"
      ]
    },
    {
      "cell_type": "markdown",
      "metadata": {
        "id": "wOg1YvAreoc-"
      },
      "source": [
        "# Clean data"
      ]
    },
    {
      "cell_type": "code",
      "execution_count": 22,
      "metadata": {
        "colab": {
          "base_uri": "https://localhost:8080/"
        },
        "id": "3TDqH7qHedOB",
        "outputId": "903d9957-5c5c-4429-b713-aaa1bdab7602"
      },
      "outputs": [
        {
          "name": "stdout",
          "output_type": "stream",
          "text": [
            "Yellow trip data: \n",
            "               pickup_time  trip_distance  PULocationID  DOLocationID  \\\n",
            "2        18319490000000000           7.10           145           145   \n",
            "5        18319640000000000           7.30           234            61   \n",
            "9        18317785000000000           6.50            90             7   \n",
            "10       18319428000000000           2.10           164            79   \n",
            "11       18317267000000000           0.62            13            13   \n",
            "...                    ...            ...           ...           ...   \n",
            "6073352  20991600000000000          14.05           142            89   \n",
            "6073353  20994900000000000           6.83           232            74   \n",
            "6073354  20993040000000000          19.88           216           133   \n",
            "6073355  20992980000000000          15.09           143           215   \n",
            "6073356  20992740000000000           4.07           159           235   \n",
            "\n",
            "         trip_time  \n",
            "2            102.0  \n",
            "5           2065.0  \n",
            "9           1914.0  \n",
            "10           685.0  \n",
            "11           168.0  \n",
            "...            ...  \n",
            "6073352     3420.0  \n",
            "6073353      960.0  \n",
            "6073354     2760.0  \n",
            "6073355     3120.0  \n",
            "6073356     1320.0  \n",
            "\n",
            "[6004088 rows x 5 columns]\n",
            "\n"
          ]
        }
      ],
      "source": [
        "import pyarrow.parquet as pq\n",
        "import pandas as pd\n",
        "\n",
        "def readAndCleanData(filename, yellow=True):\n",
        "    pickupTime = \"tpep_pickup_datetime\" if yellow else \"lpep_pickup_datetime\"\n",
        "    dropoffTime = \"tpep_dropoff_datetime\" if yellow else \"lpep_dropoff_datetime\"\n",
        "\n",
        "    __trips = pq.read_table(filename)\n",
        "    __trips: pd.DataFrame = __trips.to_pandas()\n",
        "    __trips = __trips[[pickupTime, dropoffTime, \"trip_distance\", \"PULocationID\", \"DOLocationID\"]]\n",
        "\n",
        "    # rename pickupTime and dropoffTime to \"pickup_time\" and \"dropoff_time\" respectively\n",
        "    __trips = __trips.rename(columns={pickupTime: \"pickup_time\", dropoffTime: \"dropoff_time\"})\n",
        "\n",
        "    # remove all rows with trip distance of 0\n",
        "    __trips = __trips[__trips.trip_distance > 0.0]\n",
        "\n",
        "    # remove all rows with pickup time that is not in year 2019\n",
        "    __trips = __trips[__trips.pickup_time.dt.year == 2019]\n",
        "\n",
        "    # remove all rows with pickup time after dropoff time\n",
        "    __trips = __trips[__trips[\"pickup_time\"] <= __trips[\"dropoff_time\"]]\n",
        "\n",
        "    # add column with trip time in seconds\n",
        "    __trips[\"trip_time\"] = (pd.to_datetime(__trips[\"dropoff_time\"]) - pd.to_datetime(__trips[\"pickup_time\"])).dt.total_seconds()\n",
        "\n",
        "    # remove dropoff time column\n",
        "    __trips = __trips.drop(columns=[\"dropoff_time\"])\n",
        "\n",
        "    # change pickup_time year to start of epoch year\n",
        "    __trips[\"pickup_time\"] = __trips[\"pickup_time\"].apply(lambda x: x.replace(year=1970))\n",
        "\n",
        "    # convert pickupTime to numeric values\n",
        "    __trips[\"pickup_time\"] = pd.to_numeric(__trips[\"pickup_time\"])\n",
        "\n",
        "    return __trips\n",
        "\n",
        "trips = readAndCleanData(\"data/trips/yellow_tripdata_2019-08.parquet\")\n",
        "print(f\"Yellow trip data: \\n{trips}\\n\")\n",
        "# trips = readAndCleanData(\"data/trips/green_tripdata_2019-01.parquet\", False)\n",
        "# print(f\"Green trip data: \\n{trips}\\n\")\n",
        "\n",
        "# plot pickupTime trip_distance, PUlocationID, and DOLocationID] vs trip_time\n",
        "# trips.plot(x=[\"pickupTime\", \"trip_distance\", \"PULocationID\", \"DOLocationID\"], y=\"trip_time\", kind=\"scatter\", figsize=(12, 6))\n",
        "# plt.scatter(trips[\"pickupTime\"], trips[\"trip_distance\"], trips[\"PULocationID\"], trips[\"DOLocationID\"], c=trips[\"trip_time\"], cmap=\"tab20\")\n"
      ]
    },
    {
      "cell_type": "code",
      "execution_count": 27,
      "metadata": {},
      "outputs": [
        {
          "name": "stdout",
          "output_type": "stream",
          "text": [
            "Reading all_trips.parquet\n",
            "Reading green_tripdata_2019-01.parquet\n",
            "Reading green_tripdata_2019-02.parquet\n",
            "Reading green_tripdata_2019-03.parquet\n",
            "Reading green_tripdata_2019-04.parquet\n",
            "Reading green_tripdata_2019-05.parquet\n",
            "Reading green_tripdata_2019-06.parquet\n",
            "Reading green_tripdata_2019-07.parquet\n",
            "Reading green_tripdata_2019-08.parquet\n",
            "Reading green_tripdata_2019-09.parquet\n",
            "Reading green_tripdata_2019-10.parquet\n",
            "Reading green_tripdata_2019-11.parquet\n",
            "Reading green_tripdata_2019-12.parquet\n",
            "Reading yellow_tripdata_2019-01.parquet\n",
            "Reading yellow_tripdata_2019-02.parquet\n",
            "Reading yellow_tripdata_2019-03.parquet\n",
            "Reading yellow_tripdata_2019-04.parquet\n",
            "Reading yellow_tripdata_2019-05.parquet\n",
            "Reading yellow_tripdata_2019-06.parquet\n",
            "Reading yellow_tripdata_2019-07.parquet\n",
            "Reading yellow_tripdata_2019-08.parquet\n",
            "Reading yellow_tripdata_2019-09.parquet\n",
            "Reading yellow_tripdata_2019-10.parquet\n",
            "Reading yellow_tripdata_2019-11.parquet\n",
            "Reading yellow_tripdata_2019-12.parquet\n",
            "Saving all trips into one parquet\n",
            "Saved\n"
          ]
        }
      ],
      "source": [
        "import os\n",
        "\n",
        "# read all parquet files into one pandas dataframe\n",
        "trips = pd.DataFrame()\n",
        "directory = \"data/trips\"\n",
        "for file in os.listdir(directory):\n",
        "    if file.endswith(\".parquet\"):\n",
        "        print(f\"Reading {file}\")\n",
        "        trips = pd.concat([trips, readAndCleanData(f\"{directory}/{file}\", file.startswith(\"yellow\"))])\n",
        "\n",
        "# save all trips into one parquet\n",
        "print(f\"Saving all trips into one parquet\")\n",
        "trips.to_parquet(\"data/trips/all_trips.parquet\")\n",
        "print(f\"Saved\")"
      ]
    },
    {
      "cell_type": "markdown",
      "metadata": {},
      "source": [
        "# Prepare training of the model"
      ]
    },
    {
      "cell_type": "markdown",
      "metadata": {},
      "source": [
        "## Read all data from combined parquet file"
      ]
    },
    {
      "cell_type": "code",
      "execution_count": 2,
      "metadata": {},
      "outputs": [
        {
          "name": "stdout",
          "output_type": "stream",
          "text": [
            "X values: \n",
            "[[6.1600000e+11 8.6000000e-01 9.7000000e+01 4.9000000e+01]\n",
            " [1.6310000e+12 6.6000000e-01 4.9000000e+01 1.8900000e+02]\n",
            " [2.7800000e+12 2.6800000e+00 1.8900000e+02 1.7000000e+01]\n",
            " ...\n",
            " [3.1533113e+16 3.7500000e+00 1.4800000e+02 2.4600000e+02]\n",
            " [3.1535841e+16 6.4600000e+00 1.9700000e+02 2.0500000e+02]\n",
            " [3.1534649e+16 5.6600000e+00 9.0000000e+01 7.4000000e+01]]\n",
            "\n",
            "Y values: \n",
            "[ 376.  267. 1114. ... 1143. 1573. 3052.]\n",
            "\n"
          ]
        }
      ],
      "source": [
        "import pandas as pd\n",
        "\n",
        "# Read all_trips.parquet\n",
        "trips = pd.read_parquet(\"data/trips/all_trips.parquet\")\n",
        "\n",
        "# get [\"pickupTime\", \"trip_distance\", \"PULocationID\", \"DOLocationID\"] from trips as X values\n",
        "x = trips[[\"pickup_time\", \"trip_distance\", \"PULocationID\", \"DOLocationID\"]].to_numpy()\n",
        "print(f\"X values: \\n{x}\\n\")\n",
        "\n",
        "# get [\"trip_time\"] from trips as y values\n",
        "y = trips[[\"trip_time\"]].to_numpy().ravel()\n",
        "print(f\"Y values: \\n{y}\\n\")"
      ]
    },
    {
      "cell_type": "markdown",
      "metadata": {
        "id": "WkGl4amKekRB"
      },
      "source": [
        "## Split training and test sets"
      ]
    },
    {
      "cell_type": "code",
      "execution_count": 5,
      "metadata": {
        "id": "Snxjgr7deWET"
      },
      "outputs": [],
      "source": [
        "from sklearn.model_selection import train_test_split\n",
        "\n",
        "x_train, x_test, y_train, y_test = train_test_split(\n",
        "    x,\n",
        "    y,\n",
        "    test_size=0.1,\n",
        "    random_state=6\n",
        ")"
      ]
    },
    {
      "cell_type": "markdown",
      "metadata": {
        "id": "YsdErxu-eANy"
      },
      "source": [
        "## Linear Regression"
      ]
    },
    {
      "cell_type": "code",
      "execution_count": null,
      "metadata": {
        "colab": {
          "base_uri": "https://localhost:8080/",
          "height": 373
        },
        "id": "03c9MrO9eAN0",
        "outputId": "9e4049f4-f3c9-4567-c7a1-effda0f9cce1"
      },
      "outputs": [],
      "source": [
        "from sklearn import linear_model\n",
        "\n",
        "linReg = linear_model.LinearRegression()\n",
        "linReg.fit(x_train, y_train)\n",
        "score = linReg.score(x_test, y_test)\n",
        "print(f\"{score}\")"
      ]
    },
    {
      "cell_type": "markdown",
      "metadata": {
        "id": "71FbtZ8ueAN3"
      },
      "source": [
        "## Random Forest"
      ]
    },
    {
      "cell_type": "code",
      "execution_count": 6,
      "metadata": {
        "id": "YJq9W9-geAN3",
        "outputId": "f2cbc5e6-1381-46ba-a061-37498dd3d68c"
      },
      "outputs": [],
      "source": [
        "from sklearn.ensemble import RandomForestRegressor\n",
        "\n",
        "ranForReg = RandomForestRegressor(max_depth=3, n_estimators=100, random_state=0)\n",
        "ranForReg.fit(x_train, y_train)\n",
        "score = ranForReg.score(x_test, y_test)\n",
        "print(f\"{score}\")\n",
        "\n",
        "print(f\"Prediction (3452000000000, 2.10, 141, 234): {ranForReg.predict([[3452000000000, 2.10, 141, 234]])} | Actual: 720.0\")"
      ]
    },
    {
      "cell_type": "markdown",
      "metadata": {
        "id": "zp6Hs6SneAN4"
      },
      "source": [
        "### Finding best max depth for random forest"
      ]
    },
    {
      "cell_type": "code",
      "execution_count": null,
      "metadata": {
        "id": "jwSpsGGOeAN4"
      },
      "outputs": [],
      "source": [
        "from sklearn.ensemble import RandomForestRegressor\n",
        "\n",
        "maxScore = 0\n",
        "maxDepth = 1\n",
        "maxEstimators = 1\n",
        "\n",
        "for x in range(2, 14):\n",
        "  for y in range(1, 60):\n",
        "    ranForRegOpt = RandomForestRegressor(max_depth=x, n_estimators=y, random_state=0)\n",
        "    ranForRegOpt.fit(x_train, y_train)\n",
        "    score = ranForRegOpt.score(x_test, y_test)\n",
        "    if score > maxScore:\n",
        "      maxScore = score\n",
        "      maxDepth = x\n",
        "      maxEstimators = y\n",
        "\n",
        "print(f\"{maxDepth}: {maxScore}\")\n",
        "\n",
        "print(f\"Prediction (3452000000000, 2.10, 141, 234): {ranForRegOpt.predict([[3452000000000, 2.10, 141, 234]])} | Actual: 720.0\")"
      ]
    }
  ],
  "metadata": {
    "accelerator": "GPU",
    "colab": {
      "name": "notebook.ipynb",
      "provenance": []
    },
    "interpreter": {
      "hash": "b2366135a2ed73e449de9dd605d366daa17ffc058e0d139fe9509c79432c3814"
    },
    "kernelspec": {
      "display_name": "Python 3.10.4 ('venv': venv)",
      "language": "python",
      "name": "python3"
    },
    "language_info": {
      "codemirror_mode": {
        "name": "ipython",
        "version": 3
      },
      "file_extension": ".py",
      "mimetype": "text/x-python",
      "name": "python",
      "nbconvert_exporter": "python",
      "pygments_lexer": "ipython3",
      "version": "3.10.4"
    },
    "orig_nbformat": 4
  },
  "nbformat": 4,
  "nbformat_minor": 0
}
